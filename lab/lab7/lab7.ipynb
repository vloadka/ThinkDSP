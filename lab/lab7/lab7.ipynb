{
 "cells": [
  {
   "cell_type": "markdown",
   "metadata": {},
   "source": [
    "# Лабораторная работа №7. Дискретное преобразование Фурье\n",
    "\n",
    "### Лодочникова Владлена. Группа №5130901/10202\n",
    "\n",
    "### Упражнение 7.1\n",
    "\n",
    "В блокноте chap07.ipynb представлены дополнительные примеры и пояснения. Прочитали и запустили код. \n",
    "\n",
    "### Упражнение 7.2\n",
    "\n",
    "В этой главе показано, как выразить ДПФ и обратное ДПФ произведениями\n",
    "матриц. Время выполнения этих операций пропорционально\n",
    "N^2, где N - длина массива сигнала. Во многих случаях этого\n",
    "достаточно, но есть алгоритм и побыстрее - быстрое преобразование\n",
    "Фурье (БПФ); время его работы пропорционально Nlog N.\n",
    "Ключ к БПФ - это лемма Дэниелсона-Ланцоша (Danielson-\n",
    "Lanczos).\n",
    "\n",
    "Эта лемма предлагает рекурсивный алгоритм для ДПФ:\n",
    "1. Дан массив сигнала у. Разделим его на четные элементы е и\n",
    "нечетные элементы о.\n",
    "2. Вычислим DFT е и о, делая рекурсивные вызовы.\n",
    "3. Вычислим DFT(y) для каждого значения n, используя лемму\n",
    "Дэниелсона-Ланцоша.\n",
    "\n",
    "В простейшем случае эту рекурсию надо продолжать, пока длина у\n",
    "не дойдет до 1. Тогда DFT(y) = у. А если длина у достаточно мала,\n",
    "можно вычислить его ДПФ перемножением матриц, используя заранее\n",
    "вычисленные матрицы."
   ]
  },
  {
   "cell_type": "markdown",
   "metadata": {},
   "source": [
    "Для сначала исследуем библиотечную фунукцию FFT. Для небольшого реального сигнала вычислим БПФ сигнал. "
   ]
  },
  {
   "cell_type": "code",
   "execution_count": 1,
   "metadata": {},
   "outputs": [
    {
     "name": "stdout",
     "output_type": "stream",
     "text": [
      "[ 0.2+0.j  -1.2-0.2j  0.2+0.j  -1.2+0.2j]\n"
     ]
    }
   ],
   "source": [
    "import numpy as np\n",
    "ys = [-0.5, 0.1, 0.7, -0.1]\n",
    "hs = np.fft.fft(ys)\n",
    "print(hs)"
   ]
  },
  {
   "cell_type": "markdown",
   "metadata": {},
   "source": [
    "Создадим функцию для вычисления DFT. "
   ]
  },
  {
   "cell_type": "code",
   "execution_count": 2,
   "metadata": {},
   "outputs": [],
   "source": [
    "PI2 = 2 * np.pi\n",
    "\n",
    "def dft(ys):\n",
    "    N = len(ys)\n",
    "    ts = np.arange(N) / N\n",
    "    freqs = np.arange(N)\n",
    "    args = np.outer(ts, freqs)\n",
    "    M = np.exp(1j * PI2 * args)\n",
    "    amps = M.conj().transpose().dot(ys)\n",
    "    return amps"
   ]
  },
  {
   "cell_type": "code",
   "execution_count": 3,
   "metadata": {},
   "outputs": [
    {
     "data": {
      "text/plain": [
       "5.864775846765962e-16"
      ]
     },
     "execution_count": 3,
     "metadata": {},
     "output_type": "execute_result"
    }
   ],
   "source": [
    "hs2 = dft(ys)\n",
    "np.sum(np.abs(hs - hs2))"
   ]
  },
  {
   "cell_type": "markdown",
   "metadata": {},
   "source": [
    "Далее создадим функцию, которая делит массив пополам и вычисляет БПФ его половин. "
   ]
  },
  {
   "cell_type": "code",
   "execution_count": 4,
   "metadata": {},
   "outputs": [],
   "source": [
    "def fft_norec(ys):\n",
    "    N = len(ys)\n",
    "    He = np.fft.fft(ys[::2])\n",
    "    Ho = np.fft.fft(ys[1::2])\n",
    "    \n",
    "    ns = np.arange(N)\n",
    "    W = np.exp(-1j * PI2 * ns / N)\n",
    "    \n",
    "    return np.tile(He, 2) + W * np.tile(Ho, 2)"
   ]
  },
  {
   "cell_type": "code",
   "execution_count": 5,
   "metadata": {},
   "outputs": [
    {
     "data": {
      "text/plain": [
       "0.0"
      ]
     },
     "execution_count": 5,
     "metadata": {},
     "output_type": "execute_result"
    }
   ],
   "source": [
    "hs3 = fft_norec(ys)\n",
    "np.sum(np.abs(hs - hs3))"
   ]
  },
  {
   "cell_type": "markdown",
   "metadata": {},
   "source": [
    "Можно заметить, что результаты совпадают с ожидаемыми. "
   ]
  },
  {
   "cell_type": "markdown",
   "metadata": {},
   "source": [
    "Теперь заменим функцию np.fft.fft на рекурсивные вызовы и протестируем новую функцию вычисления БПФ"
   ]
  },
  {
   "cell_type": "code",
   "execution_count": 6,
   "metadata": {},
   "outputs": [],
   "source": [
    "def fft(ys):\n",
    "    N = len(ys)\n",
    "    if N == 1:\n",
    "        return ys\n",
    "    \n",
    "    He = fft(ys[::2])\n",
    "    Ho = fft(ys[1::2])\n",
    "    \n",
    "    ns = np.arange(N)\n",
    "    W = np.exp(-1j * PI2 * ns / N)\n",
    "    \n",
    "    return np.tile(He, 2) + W * np.tile(Ho, 2)"
   ]
  },
  {
   "cell_type": "markdown",
   "metadata": {},
   "source": [
    "Проверим. "
   ]
  },
  {
   "cell_type": "code",
   "execution_count": 7,
   "metadata": {},
   "outputs": [
    {
     "data": {
      "text/plain": [
       "1.6653345369377348e-16"
      ]
     },
     "execution_count": 7,
     "metadata": {},
     "output_type": "execute_result"
    }
   ],
   "source": [
    "hs4 = fft(ys)\n",
    "np.sum(np.abs(hs - hs4))"
   ]
  },
  {
   "cell_type": "markdown",
   "metadata": {},
   "source": [
    "Функции FFT (Fast Fourier Transform) и DFT (Discrete Fourier Transform) используются для преобразования сигналов из временной области в частотную. Обе функции выполняют одно и то же преобразование, но FFT делает это быстрее, за счет использования алгоритма, основанного на разложениях в ряд Фурье. Время работы FFT составляет (n log (n)), в то время как для DFT оно равняется (n^2). Таким образом, FFT является более эффективным алгоритмом для вычисления преобразования Фурье для больших объемов данных."
   ]
  }
 ],
 "metadata": {
  "kernelspec": {
   "display_name": "base",
   "language": "python",
   "name": "python3"
  },
  "language_info": {
   "codemirror_mode": {
    "name": "ipython",
    "version": 3
   },
   "file_extension": ".py",
   "mimetype": "text/x-python",
   "name": "python",
   "nbconvert_exporter": "python",
   "pygments_lexer": "ipython3",
   "version": "3.11.5"
  }
 },
 "nbformat": 4,
 "nbformat_minor": 2
}
